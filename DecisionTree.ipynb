{
 "cells": [
  {
   "cell_type": "code",
   "execution_count": 6,
   "id": "84c5569c-cab2-4125-81cd-92ac47a9bb11",
   "metadata": {},
   "outputs": [],
   "source": [
    "import numpy as np\n",
    "import pandas as pd\n",
    "from collections import defaultdict\n",
    "import copy"
   ]
  },
  {
   "cell_type": "code",
   "execution_count": 139,
   "id": "62ed7d04-1449-4976-9672-dadef88f5f23",
   "metadata": {},
   "outputs": [],
   "source": [
    "class DecisionTree:\n",
    "    def __init__(self,X,y,labels = []):\n",
    "        self.labels = labels\n",
    "        self.feature_dict = {}\n",
    "        self.res = y\n",
    "        for n in range(len(X[0])):\n",
    "            self.feature_dict[f\"f{n}\"] = []\n",
    "        for input in X:\n",
    "            for n in range(len(input)):\n",
    "                self.feature_dict[f\"f{n}\"].append(str(input[n]))\n",
    "        self.first_part = Partition(self.feature_dict,self.res)\n",
    "        self.result = self.first_part.result\n",
    "    \n",
    "    def predict(self,newX,show_logic=False):\n",
    "        #intialize feature dict with test features\n",
    "        feature_dict = {}\n",
    "        label_dict = {}\n",
    "        for n in range(len(newX[0])):\n",
    "            feature_dict[f\"f{n}\"] = []\n",
    "            label_dict[f\"f{n}\"]=self.labels[n]\n",
    "        for input in newX:\n",
    "            for n in range(len(input)):\n",
    "                feature_dict[f\"f{n}\"].append(str(input[n]))\n",
    "        result = []\n",
    "        for i in range(len(newX)):\n",
    "            logic = \"\"\n",
    "            feat_logic = []\n",
    "            first_part = self.result\n",
    "            best_f = self.result[0]\n",
    "            specific_cat = feature_dict[best_f][i]\n",
    "            prev_specific_cat = None\n",
    "            prev_best_feat = best_f\n",
    "            c_pool = first_part[1][specific_cat]\n",
    "            print(first_part)\n",
    "            while not isinstance(c_pool,set):\n",
    "                #then c_pool is a list [best_f,{cat1:[],cat2:,...}]\n",
    "                if show_logic:\n",
    "                    logic+= f\"we know {label_dict[best_f]} is {specific_cat}, and \"\n",
    "                    feat_logic.append((best_f,specific_cat))\n",
    "                prev_best_f = best_f\n",
    "                #best_f changes after c_pool changes; if c_pool is {result}, then best_f is [best_f,{cat1:{resx},specific_catergory:{result}}]\n",
    "                best_f = c_pool[0]\n",
    "                prev_specific_cat = specific_cat\n",
    "                specific_cat = feature_dict[best_f][i]\n",
    "                #^ if c_pool is an empty set because the tree did not account for the presence of an unexpected catergory in the best feature:\n",
    "                if specific_cat in c_pool[1]:\n",
    "                    c_pool = c_pool[1][specific_cat]\n",
    "                else:\n",
    "                    #get the previous catergory we split on and find most common y value present\n",
    "                    ys = copy.deepcopy(y)\n",
    "                    for j in reversed(range(len(feature_dict[prev_best_feat]))):\n",
    "                        if feature_dict[prev_best_feat][j] != prev_specific_cat:\n",
    "                            ys = np.delete(ys,j)\n",
    "                    values,counts = np.unique(ys,return_counts = True)\n",
    "                    c_pool = set([values[np.argmax(counts)]])\n",
    "            if show_logic:\n",
    "                logic+= f\"we know {label_dict[best_f]} is {specific_cat}, and thus we know {self.labels[len(self.labels)-1]} is {c_pool}\"\n",
    "                feat_logic.append((best_f,specific_cat))\n",
    "            result.append(list(c_pool))\n",
    "            print(feat_logic)\n",
    "            print(logic)\n",
    "        return result\n",
    "    \n",
    "\n",
    "class Partition:\n",
    "    def __init__(self,feats,y):\n",
    "        #feats == {'f1':[_, _ ,_...n],'f2':[_,_,_...n],'fk':[_,_,_...n]}\n",
    "        #y = [_,_,_...n]\n",
    "        #get feature with highest entropy; if this is the last feature then there is no other partition after\n",
    "        self.best_feat, self.entropy = Partition.best_feature(feats,y)\n",
    "        #check if everything in each partition is not the same; if it is then create a partition with values; else create a new partition with one pool of the elemnts on the feature parted and create another one with the other side parted; keep repeating until one feature remains and then use majority of elements in pool to decide\n",
    "        feat_values = feats[self.best_feat]\n",
    "        to_ret = defaultdict(set)\n",
    "        i=0\n",
    "        for cat in feat_values:\n",
    "            to_ret[cat].add(y[i])\n",
    "            i+=1\n",
    "        #to_ret (for a feature) == {'catergory1':[y1,y2], 'catergory2':[y3,y5], 'catergoryn':[y4]}\n",
    "        self.result = [self.best_feat,to_ret]\n",
    "        if len(feats)>1:\n",
    "            #sort self.result so decisive pools with one element are iterated through first\n",
    "            #self.result = Partition.sort_dict(self.result)\n",
    "            for cat in self.result[1]:\n",
    "                #deleting identified elements from the list so not counted again\n",
    "                if len(to_ret[cat])==1:\n",
    "                    continue\n",
    "                    '''\n",
    "                    for i in range(len(feats[self.best_feat])):\n",
    "                        if i>=len(y):\n",
    "                            break\n",
    "                        print(f\"i: {i} and y:{y}\")\n",
    "                        if feats[self.best_feat][i]==cat and y[i]==list(to_ret[cat])[0]:\n",
    "                            del y[i]\n",
    "                            for key in feats:\n",
    "                                del feats[key][i]\n",
    "                    '''\n",
    "                elif len(to_ret[cat])>1:\n",
    "                    #catergory within feature does not lead to single output; now we must get all values from the others features and outputs that are in the same sample as the catergory and create a new partition based on them (recursive structure)\n",
    "                    #i.e. if we pick f1 and see that \"Red\" gives us two possible outputs, then if \"Red\" is present in n1-n2 idx in f1, then we will take values present in n1-n2 in f0,f2,f3,f4...y\n",
    "                    #we will then run a partition with these features; the idea is this will keep continuing until either all the features have been used or a single output is produced by a feature (entropy == 0)\n",
    "                    new_feats  = copy.deepcopy(dict(feats))\n",
    "                    new_y = list(y)\n",
    "                    new_feats.pop(self.best_feat)\n",
    "                    for i in reversed(range(len(feats[self.best_feat]))):\n",
    "                        if feats[self.best_feat][i] != cat:\n",
    "                            for key in new_feats:\n",
    "                                del new_feats[key][i]\n",
    "                            del new_y[i]\n",
    "                    #cant just use to_ret[cat] as new_y because it is a set and will not contain all y values\n",
    "                    to_ret[cat]=Partition(new_feats,new_y).result\n",
    "\n",
    "    @classmethod\n",
    "    def sort_dict(dict):\n",
    "        dict_to_ret = defaultdict(set)\n",
    "        keys= dict.keys()\n",
    "        while keys != None:\n",
    "            min_key = keys[0]\n",
    "            min_length = len((dict[keys[0]]))\n",
    "            for key in keys:\n",
    "                if len(dict[key])<min_length:\n",
    "                    min_length = len(dict[key])\n",
    "                    min_key = key\n",
    "            dict_to_ret[keys.pop(min_key)] = dict[min_key]\n",
    "            \n",
    "    @classmethod\n",
    "    def best_feature(cls, feats,y,show_entropies = False):\n",
    "        lowest_entropy = 1\n",
    "        best_feat = None\n",
    "        entropies = []\n",
    "        for feat in feats:\n",
    "            feat_arr = feats[feat]\n",
    "            temp = defaultdict(list)\n",
    "            i=0\n",
    "            for cat in feat_arr:\n",
    "                temp[cat].append(y[i])\n",
    "                i+=1\n",
    "            curr_entropy = Partition.get_conditional_entropy(temp,len(y))\n",
    "            if curr_entropy<lowest_entropy:\n",
    "                lowest_entropy = curr_entropy\n",
    "                best_feat = feat\n",
    "            entropies.append(curr_entropy)\n",
    "        if show_entropies:\n",
    "            print(entropies)\n",
    "        return feat,lowest_entropy\n",
    "    @classmethod\n",
    "    def get_conditional_entropy(cls,dict,size):\n",
    "        t_entropy = 0\n",
    "        for cat in dict:\n",
    "            entropy = 0\n",
    "            _,counts = np.unique(dict[cat],return_counts = True)\n",
    "            t_count = len(dict[cat])\n",
    "            for count in counts:\n",
    "                entropy += (count/t_count)*np.emath.logn(2,t_count/count)\n",
    "            t_entropy += (len(dict[cat])/size)*entropy\n",
    "        return t_entropy\n",
    "            \n",
    "            "
   ]
  },
  {
   "cell_type": "code",
   "execution_count": 8,
   "id": "1c08993b-0324-4994-bcae-dc374eea92cf",
   "metadata": {},
   "outputs": [],
   "source": [
    "#test data\n",
    "import pandas as pd"
   ]
  },
  {
   "cell_type": "code",
   "execution_count": 16,
   "id": "45f3cf24-fdd6-4efd-9b17-69919f11bbfd",
   "metadata": {},
   "outputs": [
    {
     "data": {
      "text/html": [
       "<div>\n",
       "<style scoped>\n",
       "    .dataframe tbody tr th:only-of-type {\n",
       "        vertical-align: middle;\n",
       "    }\n",
       "\n",
       "    .dataframe tbody tr th {\n",
       "        vertical-align: top;\n",
       "    }\n",
       "\n",
       "    .dataframe thead th {\n",
       "        text-align: right;\n",
       "    }\n",
       "</style>\n",
       "<table border=\"1\" class=\"dataframe\">\n",
       "  <thead>\n",
       "    <tr style=\"text-align: right;\">\n",
       "      <th></th>\n",
       "      <th>Motor</th>\n",
       "      <th>Wheels</th>\n",
       "      <th>Door</th>\n",
       "      <th>Size</th>\n",
       "      <th>Efficiency</th>\n",
       "    </tr>\n",
       "  </thead>\n",
       "  <tbody>\n",
       "    <tr>\n",
       "      <th>0</th>\n",
       "      <td>no</td>\n",
       "      <td>2</td>\n",
       "      <td>0</td>\n",
       "      <td>small</td>\n",
       "      <td>good</td>\n",
       "    </tr>\n",
       "    <tr>\n",
       "      <th>1</th>\n",
       "      <td>no</td>\n",
       "      <td>3</td>\n",
       "      <td>0</td>\n",
       "      <td>small</td>\n",
       "      <td>bad</td>\n",
       "    </tr>\n",
       "    <tr>\n",
       "      <th>2</th>\n",
       "      <td>yes</td>\n",
       "      <td>2</td>\n",
       "      <td>0</td>\n",
       "      <td>small</td>\n",
       "      <td>good</td>\n",
       "    </tr>\n",
       "    <tr>\n",
       "      <th>3</th>\n",
       "      <td>yes</td>\n",
       "      <td>4</td>\n",
       "      <td>2</td>\n",
       "      <td>small</td>\n",
       "      <td>bad</td>\n",
       "    </tr>\n",
       "    <tr>\n",
       "      <th>4</th>\n",
       "      <td>yes</td>\n",
       "      <td>4</td>\n",
       "      <td>3</td>\n",
       "      <td>medium</td>\n",
       "      <td>good</td>\n",
       "    </tr>\n",
       "  </tbody>\n",
       "</table>\n",
       "</div>"
      ],
      "text/plain": [
       "  Motor  Wheels  Door    Size Efficiency\n",
       "0    no       2     0   small       good\n",
       "1    no       3     0   small        bad\n",
       "2   yes       2     0   small       good\n",
       "3   yes       4     2   small        bad\n",
       "4   yes       4     3  medium       good"
      ]
     },
     "execution_count": 16,
     "metadata": {},
     "output_type": "execute_result"
    }
   ],
   "source": [
    "df = pd.read_csv('Efficiency.csv')\n",
    "df.head()"
   ]
  },
  {
   "cell_type": "code",
   "execution_count": 10,
   "id": "a1b87856-e084-4f0b-a373-4a9ccba2bc4f",
   "metadata": {},
   "outputs": [
    {
     "data": {
      "text/plain": [
       "array([['no', 2, 0, 'small'],\n",
       "       ['no', 3, 0, 'small'],\n",
       "       ['yes', 2, 0, 'small'],\n",
       "       ['yes', 4, 2, 'small'],\n",
       "       ['yes', 4, 3, 'medium'],\n",
       "       ['yes', 4, 4, 'medium'],\n",
       "       ['yes', 4, 4, 'large']], dtype=object)"
      ]
     },
     "execution_count": 10,
     "metadata": {},
     "output_type": "execute_result"
    }
   ],
   "source": [
    "X = np.array(df.drop(['Efficiency'],axis = 1))\n",
    "X"
   ]
  },
  {
   "cell_type": "code",
   "execution_count": 11,
   "id": "4a7d6a9b-6d4f-4a56-bd9b-f3f746ca84ea",
   "metadata": {},
   "outputs": [
    {
     "data": {
      "text/plain": [
       "array(['good', 'bad', 'good', 'bad', 'good', 'good', 'bad'], dtype=object)"
      ]
     },
     "execution_count": 11,
     "metadata": {},
     "output_type": "execute_result"
    }
   ],
   "source": [
    "y = np.array(df['Efficiency'])\n",
    "y"
   ]
  },
  {
   "cell_type": "code",
   "execution_count": 140,
   "id": "d535ae45-f1cf-4e6b-b66e-69bfd07bfdb4",
   "metadata": {},
   "outputs": [],
   "source": [
    "d = DecisionTree(X,y,labels = [\"Motor\",\"Wheels\",\"Door\",\"Size\",\"Efficiency\"])"
   ]
  },
  {
   "cell_type": "code",
   "execution_count": 141,
   "id": "df1c7217-eef6-4943-b0a0-dd4c11fd3f35",
   "metadata": {},
   "outputs": [
    {
     "name": "stdout",
     "output_type": "stream",
     "text": [
      "['f3', defaultdict(<class 'set'>, {'small': ['f2', defaultdict(<class 'set'>, {'0': ['f1', defaultdict(<class 'set'>, {'2': {'good'}, '3': {'bad'}})], '2': {'bad'}})], 'medium': {'good'}, 'large': {'bad'}})]\n",
      "[('f3', 'large')]\n",
      "we know Size is large, and thus we know Efficiency is {'bad'}\n",
      "['f3', defaultdict(<class 'set'>, {'small': ['f2', defaultdict(<class 'set'>, {'0': ['f1', defaultdict(<class 'set'>, {'2': {'good'}, '3': {'bad'}})], '2': {'bad'}})], 'medium': {'good'}, 'large': {'bad'}})]\n",
      "[('f3', 'small'), ('f2', '0'), ('f1', '3')]\n",
      "we know Size is small, and we know Door is 0, and we know Wheels is 3, and thus we know Efficiency is {'bad'}\n"
     ]
    },
    {
     "data": {
      "text/plain": [
       "[['bad'], ['bad']]"
      ]
     },
     "execution_count": 141,
     "metadata": {},
     "output_type": "execute_result"
    }
   ],
   "source": [
    "d.predict([['yes','4','3','large','good'],['yes','3','0','small','good']],show_logic=True)"
   ]
  },
  {
   "cell_type": "code",
   "execution_count": 130,
   "id": "ec0d0233-82e3-4eca-b20c-697845edfded",
   "metadata": {},
   "outputs": [
    {
     "name": "stdout",
     "output_type": "stream",
     "text": [
      "['f3', defaultdict(<class 'set'>, {'small': ['f2', defaultdict(<class 'set'>, {'0': ['f1', defaultdict(<class 'set'>, {'2': {'good'}, '3': {'bad'}})], '2': {'bad'}})], 'medium': {'good'}, 'large': {'bad'}})]\n",
      "we know Size is small, and we know Door is 0, and we know Wheels is 2, and thus we know Efficiency is {'good'}\n",
      "['f3', defaultdict(<class 'set'>, {'small': ['f2', defaultdict(<class 'set'>, {'0': ['f1', defaultdict(<class 'set'>, {'2': {'good'}, '3': {'bad'}})], '2': {'bad'}})], 'medium': {'good'}, 'large': {'bad'}})]\n",
      "we know Size is small, and we know Door is 0, and we know Wheels is 3, and thus we know Efficiency is {'bad'}\n",
      "['f3', defaultdict(<class 'set'>, {'small': ['f2', defaultdict(<class 'set'>, {'0': ['f1', defaultdict(<class 'set'>, {'2': {'good'}, '3': {'bad'}})], '2': {'bad'}})], 'medium': {'good'}, 'large': {'bad'}})]\n",
      "we know Size is small, and we know Door is 0, and we know Wheels is 2, and thus we know Efficiency is {'good'}\n",
      "['f3', defaultdict(<class 'set'>, {'small': ['f2', defaultdict(<class 'set'>, {'0': ['f1', defaultdict(<class 'set'>, {'2': {'good'}, '3': {'bad'}})], '2': {'bad'}})], 'medium': {'good'}, 'large': {'bad'}})]\n",
      "we know Size is small, and we know Door is 2, and thus we know Efficiency is {'bad'}\n",
      "['f3', defaultdict(<class 'set'>, {'small': ['f2', defaultdict(<class 'set'>, {'0': ['f1', defaultdict(<class 'set'>, {'2': {'good'}, '3': {'bad'}})], '2': {'bad'}})], 'medium': {'good'}, 'large': {'bad'}})]\n",
      "we know Size is medium, and thus we know Efficiency is {'good'}\n",
      "['f3', defaultdict(<class 'set'>, {'small': ['f2', defaultdict(<class 'set'>, {'0': ['f1', defaultdict(<class 'set'>, {'2': {'good'}, '3': {'bad'}})], '2': {'bad'}})], 'medium': {'good'}, 'large': {'bad'}})]\n",
      "we know Size is medium, and thus we know Efficiency is {'good'}\n",
      "['f3', defaultdict(<class 'set'>, {'small': ['f2', defaultdict(<class 'set'>, {'0': ['f1', defaultdict(<class 'set'>, {'2': {'good'}, '3': {'bad'}})], '2': {'bad'}})], 'medium': {'good'}, 'large': {'bad'}})]\n",
      "we know Size is large, and thus we know Efficiency is {'bad'}\n"
     ]
    },
    {
     "data": {
      "text/plain": [
       "[['good'], ['bad'], ['good'], ['bad'], ['good'], ['good'], ['bad']]"
      ]
     },
     "execution_count": 130,
     "metadata": {},
     "output_type": "execute_result"
    }
   ],
   "source": [
    "y_predict = d.predict(X,show+)\n",
    "y_predict"
   ]
  },
  {
   "cell_type": "code",
   "execution_count": 42,
   "id": "d27b9c30-9799-48cf-ba01-4b20a9888d90",
   "metadata": {},
   "outputs": [],
   "source": [
    "y_predict=np.reshape(y_predict,[7,])\n",
    "y=np.reshape(y,[7,])"
   ]
  },
  {
   "cell_type": "code",
   "execution_count": 44,
   "id": "189225e9-60eb-4e3d-989d-f848a983b47e",
   "metadata": {},
   "outputs": [
    {
     "data": {
      "text/plain": [
       "100.0"
      ]
     },
     "execution_count": 44,
     "metadata": {},
     "output_type": "execute_result"
    }
   ],
   "source": [
    "score = np.mean(np.equal(y_predict,y)) * 100\n",
    "score"
   ]
  },
  {
   "cell_type": "code",
   "execution_count": null,
   "id": "abc2ff90-99fb-4341-95fa-2afba24ea9ce",
   "metadata": {},
   "outputs": [],
   "source": []
  },
  {
   "cell_type": "code",
   "execution_count": null,
   "id": "986ddbc3-2cae-4919-8412-7babfb751e9f",
   "metadata": {},
   "outputs": [],
   "source": []
  }
 ],
 "metadata": {
  "kernelspec": {
   "display_name": "Python 3 (ipykernel)",
   "language": "python",
   "name": "python3"
  },
  "language_info": {
   "codemirror_mode": {
    "name": "ipython",
    "version": 3
   },
   "file_extension": ".py",
   "mimetype": "text/x-python",
   "name": "python",
   "nbconvert_exporter": "python",
   "pygments_lexer": "ipython3",
   "version": "3.11.7"
  }
 },
 "nbformat": 4,
 "nbformat_minor": 5
}
